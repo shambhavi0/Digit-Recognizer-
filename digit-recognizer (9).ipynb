{
 "cells": [
  {
   "cell_type": "markdown",
   "metadata": {
    "papermill": {
     "duration": 0.017651,
     "end_time": "2021-01-21T07:22:30.546939",
     "exception": false,
     "start_time": "2021-01-21T07:22:30.529288",
     "status": "completed"
    },
    "tags": []
   },
   "source": [
    "**Importing libraries**"
   ]
  },
  {
   "cell_type": "code",
   "execution_count": 1,
   "metadata": {
    "_cell_guid": "b1076dfc-b9ad-4769-8c92-a6c4dae69d19",
    "_uuid": "8f2839f25d086af736a60e9eeb907d3b93b6e0e5",
    "execution": {
     "iopub.execute_input": "2021-01-21T07:22:30.592296Z",
     "iopub.status.busy": "2021-01-21T07:22:30.591782Z",
     "iopub.status.idle": "2021-01-21T07:22:32.859526Z",
     "shell.execute_reply": "2021-01-21T07:22:32.858404Z"
    },
    "papermill": {
     "duration": 2.29607,
     "end_time": "2021-01-21T07:22:32.859642",
     "exception": false,
     "start_time": "2021-01-21T07:22:30.563572",
     "status": "completed"
    },
    "tags": []
   },
   "outputs": [],
   "source": [
    "import torch\n",
    "import torch.nn as nn\n",
    "import torch.nn.functional as F\n",
    "import torch.optim as optim\n",
    "from torch.optim import lr_scheduler\n",
    "from torch.autograd import Variable\n",
    "from torch.utils.data import DataLoader, Dataset\n",
    "from torchvision import transforms\n",
    "from torchvision.utils import make_grid\n",
    "from torch import nn, optim\n",
    "from torch.utils.data.sampler import SubsetRandomSampler\n",
    "\n",
    "from torchvision import transforms, models\n",
    "import math\n",
    "import random\n",
    "import seaborn as sns\n",
    "\n",
    "from PIL import Image, ImageOps, ImageEnhance\n",
    "import numbers\n",
    "\n",
    "import matplotlib.pyplot as plt\n",
    "%matplotlib inline\n",
    "import numpy as np\n",
    "import pandas as pd\n",
    "from torch.autograd import Variable as var \n"
   ]
  },
  {
   "cell_type": "markdown",
   "metadata": {
    "papermill": {
     "duration": 0.016669,
     "end_time": "2021-01-21T07:22:32.893758",
     "exception": false,
     "start_time": "2021-01-21T07:22:32.877089",
     "status": "completed"
    },
    "tags": []
   },
   "source": [
    "Checking for GPU"
   ]
  },
  {
   "cell_type": "code",
   "execution_count": 2,
   "metadata": {
    "execution": {
     "iopub.execute_input": "2021-01-21T07:22:33.272180Z",
     "iopub.status.busy": "2021-01-21T07:22:33.270241Z",
     "iopub.status.idle": "2021-01-21T07:22:33.277773Z",
     "shell.execute_reply": "2021-01-21T07:22:33.277309Z"
    },
    "papermill": {
     "duration": 0.367434,
     "end_time": "2021-01-21T07:22:33.277882",
     "exception": false,
     "start_time": "2021-01-21T07:22:32.910448",
     "status": "completed"
    },
    "tags": []
   },
   "outputs": [
    {
     "name": "stdout",
     "output_type": "stream",
     "text": [
      "Training on GPU...\n"
     ]
    }
   ],
   "source": [
    "train_on_gpu = torch.cuda.is_available()\n",
    "\n",
    "if not train_on_gpu:\n",
    "    print('Training on CPU...')\n",
    "else:\n",
    "    print('Training on GPU...')\n",
    "    \n",
    "    "
   ]
  },
  {
   "cell_type": "code",
   "execution_count": 3,
   "metadata": {
    "execution": {
     "iopub.execute_input": "2021-01-21T07:22:33.320102Z",
     "iopub.status.busy": "2021-01-21T07:22:33.319154Z",
     "iopub.status.idle": "2021-01-21T07:22:33.322294Z",
     "shell.execute_reply": "2021-01-21T07:22:33.321471Z"
    },
    "papermill": {
     "duration": 0.026391,
     "end_time": "2021-01-21T07:22:33.322383",
     "exception": false,
     "start_time": "2021-01-21T07:22:33.295992",
     "status": "completed"
    },
    "tags": []
   },
   "outputs": [],
   "source": [
    "device = torch.device('cuda:0')"
   ]
  },
  {
   "cell_type": "code",
   "execution_count": 4,
   "metadata": {
    "_cell_guid": "79c7e3d0-c299-4dcb-8224-4455121ee9b0",
    "_uuid": "d629ff2d2480ee46fbb7e2d37f6b5fab8052498a",
    "execution": {
     "iopub.execute_input": "2021-01-21T07:22:33.361635Z",
     "iopub.status.busy": "2021-01-21T07:22:33.361132Z",
     "iopub.status.idle": "2021-01-21T07:22:38.420972Z",
     "shell.execute_reply": "2021-01-21T07:22:38.419781Z"
    },
    "papermill": {
     "duration": 5.081592,
     "end_time": "2021-01-21T07:22:38.421086",
     "exception": false,
     "start_time": "2021-01-21T07:22:33.339494",
     "status": "completed"
    },
    "tags": []
   },
   "outputs": [],
   "source": [
    "df_train = pd.read_csv('/kaggle/input/digit-recognizer/train.csv')\n",
    "df_test = pd.read_csv('/kaggle/input/digit-recognizer/test.csv')"
   ]
  },
  {
   "cell_type": "code",
   "execution_count": 5,
   "metadata": {
    "execution": {
     "iopub.execute_input": "2021-01-21T07:22:38.468858Z",
     "iopub.status.busy": "2021-01-21T07:22:38.468205Z",
     "iopub.status.idle": "2021-01-21T07:22:38.489111Z",
     "shell.execute_reply": "2021-01-21T07:22:38.489513Z"
    },
    "papermill": {
     "duration": 0.050457,
     "end_time": "2021-01-21T07:22:38.489613",
     "exception": false,
     "start_time": "2021-01-21T07:22:38.439156",
     "status": "completed"
    },
    "tags": []
   },
   "outputs": [
    {
     "name": "stdout",
     "output_type": "stream",
     "text": [
      "Train size:  (42000, 785)\n",
      "Test size:  (28000, 784)\n"
     ]
    },
    {
     "data": {
      "text/html": [
       "<div>\n",
       "<style scoped>\n",
       "    .dataframe tbody tr th:only-of-type {\n",
       "        vertical-align: middle;\n",
       "    }\n",
       "\n",
       "    .dataframe tbody tr th {\n",
       "        vertical-align: top;\n",
       "    }\n",
       "\n",
       "    .dataframe thead th {\n",
       "        text-align: right;\n",
       "    }\n",
       "</style>\n",
       "<table border=\"1\" class=\"dataframe\">\n",
       "  <thead>\n",
       "    <tr style=\"text-align: right;\">\n",
       "      <th></th>\n",
       "      <th>label</th>\n",
       "      <th>pixel0</th>\n",
       "      <th>pixel1</th>\n",
       "      <th>pixel2</th>\n",
       "      <th>pixel3</th>\n",
       "      <th>pixel4</th>\n",
       "      <th>pixel5</th>\n",
       "      <th>pixel6</th>\n",
       "      <th>pixel7</th>\n",
       "      <th>pixel8</th>\n",
       "      <th>...</th>\n",
       "      <th>pixel774</th>\n",
       "      <th>pixel775</th>\n",
       "      <th>pixel776</th>\n",
       "      <th>pixel777</th>\n",
       "      <th>pixel778</th>\n",
       "      <th>pixel779</th>\n",
       "      <th>pixel780</th>\n",
       "      <th>pixel781</th>\n",
       "      <th>pixel782</th>\n",
       "      <th>pixel783</th>\n",
       "    </tr>\n",
       "  </thead>\n",
       "  <tbody>\n",
       "    <tr>\n",
       "      <th>0</th>\n",
       "      <td>1</td>\n",
       "      <td>0</td>\n",
       "      <td>0</td>\n",
       "      <td>0</td>\n",
       "      <td>0</td>\n",
       "      <td>0</td>\n",
       "      <td>0</td>\n",
       "      <td>0</td>\n",
       "      <td>0</td>\n",
       "      <td>0</td>\n",
       "      <td>...</td>\n",
       "      <td>0</td>\n",
       "      <td>0</td>\n",
       "      <td>0</td>\n",
       "      <td>0</td>\n",
       "      <td>0</td>\n",
       "      <td>0</td>\n",
       "      <td>0</td>\n",
       "      <td>0</td>\n",
       "      <td>0</td>\n",
       "      <td>0</td>\n",
       "    </tr>\n",
       "    <tr>\n",
       "      <th>1</th>\n",
       "      <td>0</td>\n",
       "      <td>0</td>\n",
       "      <td>0</td>\n",
       "      <td>0</td>\n",
       "      <td>0</td>\n",
       "      <td>0</td>\n",
       "      <td>0</td>\n",
       "      <td>0</td>\n",
       "      <td>0</td>\n",
       "      <td>0</td>\n",
       "      <td>...</td>\n",
       "      <td>0</td>\n",
       "      <td>0</td>\n",
       "      <td>0</td>\n",
       "      <td>0</td>\n",
       "      <td>0</td>\n",
       "      <td>0</td>\n",
       "      <td>0</td>\n",
       "      <td>0</td>\n",
       "      <td>0</td>\n",
       "      <td>0</td>\n",
       "    </tr>\n",
       "    <tr>\n",
       "      <th>2</th>\n",
       "      <td>1</td>\n",
       "      <td>0</td>\n",
       "      <td>0</td>\n",
       "      <td>0</td>\n",
       "      <td>0</td>\n",
       "      <td>0</td>\n",
       "      <td>0</td>\n",
       "      <td>0</td>\n",
       "      <td>0</td>\n",
       "      <td>0</td>\n",
       "      <td>...</td>\n",
       "      <td>0</td>\n",
       "      <td>0</td>\n",
       "      <td>0</td>\n",
       "      <td>0</td>\n",
       "      <td>0</td>\n",
       "      <td>0</td>\n",
       "      <td>0</td>\n",
       "      <td>0</td>\n",
       "      <td>0</td>\n",
       "      <td>0</td>\n",
       "    </tr>\n",
       "    <tr>\n",
       "      <th>3</th>\n",
       "      <td>4</td>\n",
       "      <td>0</td>\n",
       "      <td>0</td>\n",
       "      <td>0</td>\n",
       "      <td>0</td>\n",
       "      <td>0</td>\n",
       "      <td>0</td>\n",
       "      <td>0</td>\n",
       "      <td>0</td>\n",
       "      <td>0</td>\n",
       "      <td>...</td>\n",
       "      <td>0</td>\n",
       "      <td>0</td>\n",
       "      <td>0</td>\n",
       "      <td>0</td>\n",
       "      <td>0</td>\n",
       "      <td>0</td>\n",
       "      <td>0</td>\n",
       "      <td>0</td>\n",
       "      <td>0</td>\n",
       "      <td>0</td>\n",
       "    </tr>\n",
       "    <tr>\n",
       "      <th>4</th>\n",
       "      <td>0</td>\n",
       "      <td>0</td>\n",
       "      <td>0</td>\n",
       "      <td>0</td>\n",
       "      <td>0</td>\n",
       "      <td>0</td>\n",
       "      <td>0</td>\n",
       "      <td>0</td>\n",
       "      <td>0</td>\n",
       "      <td>0</td>\n",
       "      <td>...</td>\n",
       "      <td>0</td>\n",
       "      <td>0</td>\n",
       "      <td>0</td>\n",
       "      <td>0</td>\n",
       "      <td>0</td>\n",
       "      <td>0</td>\n",
       "      <td>0</td>\n",
       "      <td>0</td>\n",
       "      <td>0</td>\n",
       "      <td>0</td>\n",
       "    </tr>\n",
       "  </tbody>\n",
       "</table>\n",
       "<p>5 rows × 785 columns</p>\n",
       "</div>"
      ],
      "text/plain": [
       "   label  pixel0  pixel1  pixel2  pixel3  pixel4  pixel5  pixel6  pixel7  \\\n",
       "0      1       0       0       0       0       0       0       0       0   \n",
       "1      0       0       0       0       0       0       0       0       0   \n",
       "2      1       0       0       0       0       0       0       0       0   \n",
       "3      4       0       0       0       0       0       0       0       0   \n",
       "4      0       0       0       0       0       0       0       0       0   \n",
       "\n",
       "   pixel8  ...  pixel774  pixel775  pixel776  pixel777  pixel778  pixel779  \\\n",
       "0       0  ...         0         0         0         0         0         0   \n",
       "1       0  ...         0         0         0         0         0         0   \n",
       "2       0  ...         0         0         0         0         0         0   \n",
       "3       0  ...         0         0         0         0         0         0   \n",
       "4       0  ...         0         0         0         0         0         0   \n",
       "\n",
       "   pixel780  pixel781  pixel782  pixel783  \n",
       "0         0         0         0         0  \n",
       "1         0         0         0         0  \n",
       "2         0         0         0         0  \n",
       "3         0         0         0         0  \n",
       "4         0         0         0         0  \n",
       "\n",
       "[5 rows x 785 columns]"
      ]
     },
     "execution_count": 5,
     "metadata": {},
     "output_type": "execute_result"
    }
   ],
   "source": [
    "print('Train size: ', df_train.shape)\n",
    "print('Test size: ', df_test.shape)\n",
    "df_train.head()"
   ]
  },
  {
   "cell_type": "code",
   "execution_count": 6,
   "metadata": {
    "execution": {
     "iopub.execute_input": "2021-01-21T07:22:38.540541Z",
     "iopub.status.busy": "2021-01-21T07:22:38.539758Z",
     "iopub.status.idle": "2021-01-21T07:22:38.544331Z",
     "shell.execute_reply": "2021-01-21T07:22:38.543918Z"
    },
    "papermill": {
     "duration": 0.036265,
     "end_time": "2021-01-21T07:22:38.544417",
     "exception": false,
     "start_time": "2021-01-21T07:22:38.508152",
     "status": "completed"
    },
    "tags": []
   },
   "outputs": [
    {
     "data": {
      "text/html": [
       "<div>\n",
       "<style scoped>\n",
       "    .dataframe tbody tr th:only-of-type {\n",
       "        vertical-align: middle;\n",
       "    }\n",
       "\n",
       "    .dataframe tbody tr th {\n",
       "        vertical-align: top;\n",
       "    }\n",
       "\n",
       "    .dataframe thead th {\n",
       "        text-align: right;\n",
       "    }\n",
       "</style>\n",
       "<table border=\"1\" class=\"dataframe\">\n",
       "  <thead>\n",
       "    <tr style=\"text-align: right;\">\n",
       "      <th></th>\n",
       "      <th>pixel0</th>\n",
       "      <th>pixel1</th>\n",
       "      <th>pixel2</th>\n",
       "      <th>pixel3</th>\n",
       "      <th>pixel4</th>\n",
       "      <th>pixel5</th>\n",
       "      <th>pixel6</th>\n",
       "      <th>pixel7</th>\n",
       "      <th>pixel8</th>\n",
       "      <th>pixel9</th>\n",
       "      <th>...</th>\n",
       "      <th>pixel774</th>\n",
       "      <th>pixel775</th>\n",
       "      <th>pixel776</th>\n",
       "      <th>pixel777</th>\n",
       "      <th>pixel778</th>\n",
       "      <th>pixel779</th>\n",
       "      <th>pixel780</th>\n",
       "      <th>pixel781</th>\n",
       "      <th>pixel782</th>\n",
       "      <th>pixel783</th>\n",
       "    </tr>\n",
       "  </thead>\n",
       "  <tbody>\n",
       "    <tr>\n",
       "      <th>0</th>\n",
       "      <td>0</td>\n",
       "      <td>0</td>\n",
       "      <td>0</td>\n",
       "      <td>0</td>\n",
       "      <td>0</td>\n",
       "      <td>0</td>\n",
       "      <td>0</td>\n",
       "      <td>0</td>\n",
       "      <td>0</td>\n",
       "      <td>0</td>\n",
       "      <td>...</td>\n",
       "      <td>0</td>\n",
       "      <td>0</td>\n",
       "      <td>0</td>\n",
       "      <td>0</td>\n",
       "      <td>0</td>\n",
       "      <td>0</td>\n",
       "      <td>0</td>\n",
       "      <td>0</td>\n",
       "      <td>0</td>\n",
       "      <td>0</td>\n",
       "    </tr>\n",
       "    <tr>\n",
       "      <th>1</th>\n",
       "      <td>0</td>\n",
       "      <td>0</td>\n",
       "      <td>0</td>\n",
       "      <td>0</td>\n",
       "      <td>0</td>\n",
       "      <td>0</td>\n",
       "      <td>0</td>\n",
       "      <td>0</td>\n",
       "      <td>0</td>\n",
       "      <td>0</td>\n",
       "      <td>...</td>\n",
       "      <td>0</td>\n",
       "      <td>0</td>\n",
       "      <td>0</td>\n",
       "      <td>0</td>\n",
       "      <td>0</td>\n",
       "      <td>0</td>\n",
       "      <td>0</td>\n",
       "      <td>0</td>\n",
       "      <td>0</td>\n",
       "      <td>0</td>\n",
       "    </tr>\n",
       "    <tr>\n",
       "      <th>2</th>\n",
       "      <td>0</td>\n",
       "      <td>0</td>\n",
       "      <td>0</td>\n",
       "      <td>0</td>\n",
       "      <td>0</td>\n",
       "      <td>0</td>\n",
       "      <td>0</td>\n",
       "      <td>0</td>\n",
       "      <td>0</td>\n",
       "      <td>0</td>\n",
       "      <td>...</td>\n",
       "      <td>0</td>\n",
       "      <td>0</td>\n",
       "      <td>0</td>\n",
       "      <td>0</td>\n",
       "      <td>0</td>\n",
       "      <td>0</td>\n",
       "      <td>0</td>\n",
       "      <td>0</td>\n",
       "      <td>0</td>\n",
       "      <td>0</td>\n",
       "    </tr>\n",
       "    <tr>\n",
       "      <th>3</th>\n",
       "      <td>0</td>\n",
       "      <td>0</td>\n",
       "      <td>0</td>\n",
       "      <td>0</td>\n",
       "      <td>0</td>\n",
       "      <td>0</td>\n",
       "      <td>0</td>\n",
       "      <td>0</td>\n",
       "      <td>0</td>\n",
       "      <td>0</td>\n",
       "      <td>...</td>\n",
       "      <td>0</td>\n",
       "      <td>0</td>\n",
       "      <td>0</td>\n",
       "      <td>0</td>\n",
       "      <td>0</td>\n",
       "      <td>0</td>\n",
       "      <td>0</td>\n",
       "      <td>0</td>\n",
       "      <td>0</td>\n",
       "      <td>0</td>\n",
       "    </tr>\n",
       "    <tr>\n",
       "      <th>4</th>\n",
       "      <td>0</td>\n",
       "      <td>0</td>\n",
       "      <td>0</td>\n",
       "      <td>0</td>\n",
       "      <td>0</td>\n",
       "      <td>0</td>\n",
       "      <td>0</td>\n",
       "      <td>0</td>\n",
       "      <td>0</td>\n",
       "      <td>0</td>\n",
       "      <td>...</td>\n",
       "      <td>0</td>\n",
       "      <td>0</td>\n",
       "      <td>0</td>\n",
       "      <td>0</td>\n",
       "      <td>0</td>\n",
       "      <td>0</td>\n",
       "      <td>0</td>\n",
       "      <td>0</td>\n",
       "      <td>0</td>\n",
       "      <td>0</td>\n",
       "    </tr>\n",
       "  </tbody>\n",
       "</table>\n",
       "<p>5 rows × 784 columns</p>\n",
       "</div>"
      ],
      "text/plain": [
       "   pixel0  pixel1  pixel2  pixel3  pixel4  pixel5  pixel6  pixel7  pixel8  \\\n",
       "0       0       0       0       0       0       0       0       0       0   \n",
       "1       0       0       0       0       0       0       0       0       0   \n",
       "2       0       0       0       0       0       0       0       0       0   \n",
       "3       0       0       0       0       0       0       0       0       0   \n",
       "4       0       0       0       0       0       0       0       0       0   \n",
       "\n",
       "   pixel9  ...  pixel774  pixel775  pixel776  pixel777  pixel778  pixel779  \\\n",
       "0       0  ...         0         0         0         0         0         0   \n",
       "1       0  ...         0         0         0         0         0         0   \n",
       "2       0  ...         0         0         0         0         0         0   \n",
       "3       0  ...         0         0         0         0         0         0   \n",
       "4       0  ...         0         0         0         0         0         0   \n",
       "\n",
       "   pixel780  pixel781  pixel782  pixel783  \n",
       "0         0         0         0         0  \n",
       "1         0         0         0         0  \n",
       "2         0         0         0         0  \n",
       "3         0         0         0         0  \n",
       "4         0         0         0         0  \n",
       "\n",
       "[5 rows x 784 columns]"
      ]
     },
     "execution_count": 6,
     "metadata": {},
     "output_type": "execute_result"
    }
   ],
   "source": [
    "df_test.head()"
   ]
  },
  {
   "cell_type": "code",
   "execution_count": 7,
   "metadata": {
    "execution": {
     "iopub.execute_input": "2021-01-21T07:22:38.586573Z",
     "iopub.status.busy": "2021-01-21T07:22:38.585773Z",
     "iopub.status.idle": "2021-01-21T07:22:38.737703Z",
     "shell.execute_reply": "2021-01-21T07:22:38.737273Z"
    },
    "papermill": {
     "duration": 0.174297,
     "end_time": "2021-01-21T07:22:38.737796",
     "exception": false,
     "start_time": "2021-01-21T07:22:38.563499",
     "status": "completed"
    },
    "tags": []
   },
   "outputs": [
    {
     "data": {
      "text/plain": [
       "<matplotlib.axes._subplots.AxesSubplot at 0x7f080b5e4a90>"
      ]
     },
     "execution_count": 7,
     "metadata": {},
     "output_type": "execute_result"
    },
    {
     "data": {
      "image/png": "[encoded data removed]",
      "text/plain": [
       "<Figure size 432x288 with 1 Axes>"
      ]
     },
     "metadata": {
      "needs_background": "light"
     },
     "output_type": "display_data"
    }
   ],
   "source": [
    "sns.countplot(df_train['label'])"
   ]
  },
  {
   "cell_type": "code",
   "execution_count": 8,
   "metadata": {
    "execution": {
     "iopub.execute_input": "2021-01-21T07:22:38.870022Z",
     "iopub.status.busy": "2021-01-21T07:22:38.783626Z",
     "iopub.status.idle": "2021-01-21T07:22:41.119607Z",
     "shell.execute_reply": "2021-01-21T07:22:41.119158Z"
    },
    "papermill": {
     "duration": 2.36163,
     "end_time": "2021-01-21T07:22:41.119827",
     "exception": false,
     "start_time": "2021-01-21T07:22:38.758197",
     "status": "completed"
    },
    "tags": []
   },
   "outputs": [
    {
     "data": {
      "text/html": [
       "<div>\n",
       "<style scoped>\n",
       "    .dataframe tbody tr th:only-of-type {\n",
       "        vertical-align: middle;\n",
       "    }\n",
       "\n",
       "    .dataframe tbody tr th {\n",
       "        vertical-align: top;\n",
       "    }\n",
       "\n",
       "    .dataframe thead th {\n",
       "        text-align: right;\n",
       "    }\n",
       "</style>\n",
       "<table border=\"1\" class=\"dataframe\">\n",
       "  <thead>\n",
       "    <tr style=\"text-align: right;\">\n",
       "      <th></th>\n",
       "      <th>label</th>\n",
       "      <th>pixel0</th>\n",
       "      <th>pixel1</th>\n",
       "      <th>pixel2</th>\n",
       "      <th>pixel3</th>\n",
       "      <th>pixel4</th>\n",
       "      <th>pixel5</th>\n",
       "      <th>pixel6</th>\n",
       "      <th>pixel7</th>\n",
       "      <th>pixel8</th>\n",
       "      <th>...</th>\n",
       "      <th>pixel774</th>\n",
       "      <th>pixel775</th>\n",
       "      <th>pixel776</th>\n",
       "      <th>pixel777</th>\n",
       "      <th>pixel778</th>\n",
       "      <th>pixel779</th>\n",
       "      <th>pixel780</th>\n",
       "      <th>pixel781</th>\n",
       "      <th>pixel782</th>\n",
       "      <th>pixel783</th>\n",
       "    </tr>\n",
       "  </thead>\n",
       "  <tbody>\n",
       "    <tr>\n",
       "      <th>count</th>\n",
       "      <td>42000.000000</td>\n",
       "      <td>42000.0</td>\n",
       "      <td>42000.0</td>\n",
       "      <td>42000.0</td>\n",
       "      <td>42000.0</td>\n",
       "      <td>42000.0</td>\n",
       "      <td>42000.0</td>\n",
       "      <td>42000.0</td>\n",
       "      <td>42000.0</td>\n",
       "      <td>42000.0</td>\n",
       "      <td>...</td>\n",
       "      <td>42000.000000</td>\n",
       "      <td>42000.000000</td>\n",
       "      <td>42000.000000</td>\n",
       "      <td>42000.00000</td>\n",
       "      <td>42000.000000</td>\n",
       "      <td>42000.000000</td>\n",
       "      <td>42000.0</td>\n",
       "      <td>42000.0</td>\n",
       "      <td>42000.0</td>\n",
       "      <td>42000.0</td>\n",
       "    </tr>\n",
       "    <tr>\n",
       "      <th>mean</th>\n",
       "      <td>4.456643</td>\n",
       "      <td>0.0</td>\n",
       "      <td>0.0</td>\n",
       "      <td>0.0</td>\n",
       "      <td>0.0</td>\n",
       "      <td>0.0</td>\n",
       "      <td>0.0</td>\n",
       "      <td>0.0</td>\n",
       "      <td>0.0</td>\n",
       "      <td>0.0</td>\n",
       "      <td>...</td>\n",
       "      <td>0.219286</td>\n",
       "      <td>0.117095</td>\n",
       "      <td>0.059024</td>\n",
       "      <td>0.02019</td>\n",
       "      <td>0.017238</td>\n",
       "      <td>0.002857</td>\n",
       "      <td>0.0</td>\n",
       "      <td>0.0</td>\n",
       "      <td>0.0</td>\n",
       "      <td>0.0</td>\n",
       "    </tr>\n",
       "    <tr>\n",
       "      <th>std</th>\n",
       "      <td>2.887730</td>\n",
       "      <td>0.0</td>\n",
       "      <td>0.0</td>\n",
       "      <td>0.0</td>\n",
       "      <td>0.0</td>\n",
       "      <td>0.0</td>\n",
       "      <td>0.0</td>\n",
       "      <td>0.0</td>\n",
       "      <td>0.0</td>\n",
       "      <td>0.0</td>\n",
       "      <td>...</td>\n",
       "      <td>6.312890</td>\n",
       "      <td>4.633819</td>\n",
       "      <td>3.274488</td>\n",
       "      <td>1.75987</td>\n",
       "      <td>1.894498</td>\n",
       "      <td>0.414264</td>\n",
       "      <td>0.0</td>\n",
       "      <td>0.0</td>\n",
       "      <td>0.0</td>\n",
       "      <td>0.0</td>\n",
       "    </tr>\n",
       "    <tr>\n",
       "      <th>min</th>\n",
       "      <td>0.000000</td>\n",
       "      <td>0.0</td>\n",
       "      <td>0.0</td>\n",
       "      <td>0.0</td>\n",
       "      <td>0.0</td>\n",
       "      <td>0.0</td>\n",
       "      <td>0.0</td>\n",
       "      <td>0.0</td>\n",
       "      <td>0.0</td>\n",
       "      <td>0.0</td>\n",
       "      <td>...</td>\n",
       "      <td>0.000000</td>\n",
       "      <td>0.000000</td>\n",
       "      <td>0.000000</td>\n",
       "      <td>0.00000</td>\n",
       "      <td>0.000000</td>\n",
       "      <td>0.000000</td>\n",
       "      <td>0.0</td>\n",
       "      <td>0.0</td>\n",
       "      <td>0.0</td>\n",
       "      <td>0.0</td>\n",
       "    </tr>\n",
       "    <tr>\n",
       "      <th>25%</th>\n",
       "      <td>2.000000</td>\n",
       "      <td>0.0</td>\n",
       "      <td>0.0</td>\n",
       "      <td>0.0</td>\n",
       "      <td>0.0</td>\n",
       "      <td>0.0</td>\n",
       "      <td>0.0</td>\n",
       "      <td>0.0</td>\n",
       "      <td>0.0</td>\n",
       "      <td>0.0</td>\n",
       "      <td>...</td>\n",
       "      <td>0.000000</td>\n",
       "      <td>0.000000</td>\n",
       "      <td>0.000000</td>\n",
       "      <td>0.00000</td>\n",
       "      <td>0.000000</td>\n",
       "      <td>0.000000</td>\n",
       "      <td>0.0</td>\n",
       "      <td>0.0</td>\n",
       "      <td>0.0</td>\n",
       "      <td>0.0</td>\n",
       "    </tr>\n",
       "    <tr>\n",
       "      <th>50%</th>\n",
       "      <td>4.000000</td>\n",
       "      <td>0.0</td>\n",
       "      <td>0.0</td>\n",
       "      <td>0.0</td>\n",
       "      <td>0.0</td>\n",
       "      <td>0.0</td>\n",
       "      <td>0.0</td>\n",
       "      <td>0.0</td>\n",
       "      <td>0.0</td>\n",
       "      <td>0.0</td>\n",
       "      <td>...</td>\n",
       "      <td>0.000000</td>\n",
       "      <td>0.000000</td>\n",
       "      <td>0.000000</td>\n",
       "      <td>0.00000</td>\n",
       "      <td>0.000000</td>\n",
       "      <td>0.000000</td>\n",
       "      <td>0.0</td>\n",
       "      <td>0.0</td>\n",
       "      <td>0.0</td>\n",
       "      <td>0.0</td>\n",
       "    </tr>\n",
       "    <tr>\n",
       "      <th>75%</th>\n",
       "      <td>7.000000</td>\n",
       "      <td>0.0</td>\n",
       "      <td>0.0</td>\n",
       "      <td>0.0</td>\n",
       "      <td>0.0</td>\n",
       "      <td>0.0</td>\n",
       "      <td>0.0</td>\n",
       "      <td>0.0</td>\n",
       "      <td>0.0</td>\n",
       "      <td>0.0</td>\n",
       "      <td>...</td>\n",
       "      <td>0.000000</td>\n",
       "      <td>0.000000</td>\n",
       "      <td>0.000000</td>\n",
       "      <td>0.00000</td>\n",
       "      <td>0.000000</td>\n",
       "      <td>0.000000</td>\n",
       "      <td>0.0</td>\n",
       "      <td>0.0</td>\n",
       "      <td>0.0</td>\n",
       "      <td>0.0</td>\n",
       "    </tr>\n",
       "    <tr>\n",
       "      <th>max</th>\n",
       "      <td>9.000000</td>\n",
       "      <td>0.0</td>\n",
       "      <td>0.0</td>\n",
       "      <td>0.0</td>\n",
       "      <td>0.0</td>\n",
       "      <td>0.0</td>\n",
       "      <td>0.0</td>\n",
       "      <td>0.0</td>\n",
       "      <td>0.0</td>\n",
       "      <td>0.0</td>\n",
       "      <td>...</td>\n",
       "      <td>254.000000</td>\n",
       "      <td>254.000000</td>\n",
       "      <td>253.000000</td>\n",
       "      <td>253.00000</td>\n",
       "      <td>254.000000</td>\n",
       "      <td>62.000000</td>\n",
       "      <td>0.0</td>\n",
       "      <td>0.0</td>\n",
       "      <td>0.0</td>\n",
       "      <td>0.0</td>\n",
       "    </tr>\n",
       "  </tbody>\n",
       "</table>\n",
       "<p>8 rows × 785 columns</p>\n",
       "</div>"
      ],
      "text/plain": [
       "              label   pixel0   pixel1   pixel2   pixel3   pixel4   pixel5  \\\n",
       "count  42000.000000  42000.0  42000.0  42000.0  42000.0  42000.0  42000.0   \n",
       "mean       4.456643      0.0      0.0      0.0      0.0      0.0      0.0   \n",
       "std        2.887730      0.0      0.0      0.0      0.0      0.0      0.0   \n",
       "min        0.000000      0.0      0.0      0.0      0.0      0.0      0.0   \n",
       "25%        2.000000      0.0      0.0      0.0      0.0      0.0      0.0   \n",
       "50%        4.000000      0.0      0.0      0.0      0.0      0.0      0.0   \n",
       "75%        7.000000      0.0      0.0      0.0      0.0      0.0      0.0   \n",
       "max        9.000000      0.0      0.0      0.0      0.0      0.0      0.0   \n",
       "\n",
       "        pixel6   pixel7   pixel8  ...      pixel774      pixel775  \\\n",
       "count  42000.0  42000.0  42000.0  ...  42000.000000  42000.000000   \n",
       "mean       0.0      0.0      0.0  ...      0.219286      0.117095   \n",
       "std        0.0      0.0      0.0  ...      6.312890      4.633819   \n",
       "min        0.0      0.0      0.0  ...      0.000000      0.000000   \n",
       "25%        0.0      0.0      0.0  ...      0.000000      0.000000   \n",
       "50%        0.0      0.0      0.0  ...      0.000000      0.000000   \n",
       "75%        0.0      0.0      0.0  ...      0.000000      0.000000   \n",
       "max        0.0      0.0      0.0  ...    254.000000    254.000000   \n",
       "\n",
       "           pixel776     pixel777      pixel778      pixel779  pixel780  \\\n",
       "count  42000.000000  42000.00000  42000.000000  42000.000000   42000.0   \n",
       "mean       0.059024      0.02019      0.017238      0.002857       0.0   \n",
       "std        3.274488      1.75987      1.894498      0.414264       0.0   \n",
       "min        0.000000      0.00000      0.000000      0.000000       0.0   \n",
       "25%        0.000000      0.00000      0.000000      0.000000       0.0   \n",
       "50%        0.000000      0.00000      0.000000      0.000000       0.0   \n",
       "75%        0.000000      0.00000      0.000000      0.000000       0.0   \n",
       "max      253.000000    253.00000    254.000000     62.000000       0.0   \n",
       "\n",
       "       pixel781  pixel782  pixel783  \n",
       "count   42000.0   42000.0   42000.0  \n",
       "mean        0.0       0.0       0.0  \n",
       "std         0.0       0.0       0.0  \n",
       "min         0.0       0.0       0.0  \n",
       "25%         0.0       0.0       0.0  \n",
       "50%         0.0       0.0       0.0  \n",
       "75%         0.0       0.0       0.0  \n",
       "max         0.0       0.0       0.0  \n",
       "\n",
       "[8 rows x 785 columns]"
      ]
     },
     "execution_count": 8,
     "metadata": {},
     "output_type": "execute_result"
    }
   ],
   "source": [
    "df_train.describe()"
   ]
  },
  {
   "cell_type": "code",
   "execution_count": 9,
   "metadata": {
    "execution": {
     "iopub.execute_input": "2021-01-21T07:22:41.166333Z",
     "iopub.status.busy": "2021-01-21T07:22:41.165317Z",
     "iopub.status.idle": "2021-01-21T07:22:41.184236Z",
     "shell.execute_reply": "2021-01-21T07:22:41.183771Z"
    },
    "papermill": {
     "duration": 0.043277,
     "end_time": "2021-01-21T07:22:41.184328",
     "exception": false,
     "start_time": "2021-01-21T07:22:41.141051",
     "status": "completed"
    },
    "tags": []
   },
   "outputs": [
    {
     "data": {
      "text/plain": [
       "False"
      ]
     },
     "execution_count": 9,
     "metadata": {},
     "output_type": "execute_result"
    }
   ],
   "source": [
    "df_train.isna().any().any()"
   ]
  },
  {
   "cell_type": "code",
   "execution_count": 10,
   "metadata": {
    "execution": {
     "iopub.execute_input": "2021-01-21T07:22:41.306284Z",
     "iopub.status.busy": "2021-01-21T07:22:41.305503Z",
     "iopub.status.idle": "2021-01-21T07:22:41.309515Z",
     "shell.execute_reply": "2021-01-21T07:22:41.309075Z"
    },
    "papermill": {
     "duration": 0.103611,
     "end_time": "2021-01-21T07:22:41.309667",
     "exception": false,
     "start_time": "2021-01-21T07:22:41.206056",
     "status": "completed"
    },
    "tags": []
   },
   "outputs": [],
   "source": [
    "train_data = df_train.drop('label',axis=1).values"
   ]
  },
  {
   "cell_type": "code",
   "execution_count": 11,
   "metadata": {
    "execution": {
     "iopub.execute_input": "2021-01-21T07:22:41.358045Z",
     "iopub.status.busy": "2021-01-21T07:22:41.357283Z",
     "iopub.status.idle": "2021-01-21T07:22:41.394641Z",
     "shell.execute_reply": "2021-01-21T07:22:41.395032Z"
    },
    "papermill": {
     "duration": 0.062556,
     "end_time": "2021-01-21T07:22:41.395150",
     "exception": false,
     "start_time": "2021-01-21T07:22:41.332594",
     "status": "completed"
    },
    "tags": []
   },
   "outputs": [
    {
     "data": {
      "text/plain": [
       "255"
      ]
     },
     "execution_count": 11,
     "metadata": {},
     "output_type": "execute_result"
    }
   ],
   "source": [
    "train_data.max()"
   ]
  },
  {
   "cell_type": "code",
   "execution_count": 12,
   "metadata": {
    "execution": {
     "iopub.execute_input": "2021-01-21T07:22:41.443459Z",
     "iopub.status.busy": "2021-01-21T07:22:41.442558Z",
     "iopub.status.idle": "2021-01-21T07:22:41.622287Z",
     "shell.execute_reply": "2021-01-21T07:22:41.621825Z"
    },
    "papermill": {
     "duration": 0.205701,
     "end_time": "2021-01-21T07:22:41.622392",
     "exception": false,
     "start_time": "2021-01-21T07:22:41.416691",
     "status": "completed"
    },
    "tags": []
   },
   "outputs": [],
   "source": [
    "train_data = train_data/255.0\n",
    "df_test = df_test/255.0"
   ]
  },
  {
   "cell_type": "code",
   "execution_count": 13,
   "metadata": {
    "execution": {
     "iopub.execute_input": "2021-01-21T07:22:41.672968Z",
     "iopub.status.busy": "2021-01-21T07:22:41.672084Z",
     "iopub.status.idle": "2021-01-21T07:22:41.813506Z",
     "shell.execute_reply": "2021-01-21T07:22:41.813939Z"
    },
    "papermill": {
     "duration": 0.169291,
     "end_time": "2021-01-21T07:22:41.814071",
     "exception": false,
     "start_time": "2021-01-21T07:22:41.644780",
     "status": "completed"
    },
    "tags": []
   },
   "outputs": [
    {
     "name": "stdout",
     "output_type": "stream",
     "text": [
      "Train size:  (33425, 785)\n",
      "Val size:  (8575, 785)\n",
      "Test size:  (28000, 784)\n"
     ]
    },
    {
     "data": {
      "text/html": [
       "<div>\n",
       "<style scoped>\n",
       "    .dataframe tbody tr th:only-of-type {\n",
       "        vertical-align: middle;\n",
       "    }\n",
       "\n",
       "    .dataframe tbody tr th {\n",
       "        vertical-align: top;\n",
       "    }\n",
       "\n",
       "    .dataframe thead th {\n",
       "        text-align: right;\n",
       "    }\n",
       "</style>\n",
       "<table border=\"1\" class=\"dataframe\">\n",
       "  <thead>\n",
       "    <tr style=\"text-align: right;\">\n",
       "      <th></th>\n",
       "      <th>label</th>\n",
       "      <th>pixel0</th>\n",
       "      <th>pixel1</th>\n",
       "      <th>pixel2</th>\n",
       "      <th>pixel3</th>\n",
       "      <th>pixel4</th>\n",
       "      <th>pixel5</th>\n",
       "      <th>pixel6</th>\n",
       "      <th>pixel7</th>\n",
       "      <th>pixel8</th>\n",
       "      <th>...</th>\n",
       "      <th>pixel774</th>\n",
       "      <th>pixel775</th>\n",
       "      <th>pixel776</th>\n",
       "      <th>pixel777</th>\n",
       "      <th>pixel778</th>\n",
       "      <th>pixel779</th>\n",
       "      <th>pixel780</th>\n",
       "      <th>pixel781</th>\n",
       "      <th>pixel782</th>\n",
       "      <th>pixel783</th>\n",
       "    </tr>\n",
       "  </thead>\n",
       "  <tbody>\n",
       "    <tr>\n",
       "      <th>0</th>\n",
       "      <td>1</td>\n",
       "      <td>0</td>\n",
       "      <td>0</td>\n",
       "      <td>0</td>\n",
       "      <td>0</td>\n",
       "      <td>0</td>\n",
       "      <td>0</td>\n",
       "      <td>0</td>\n",
       "      <td>0</td>\n",
       "      <td>0</td>\n",
       "      <td>...</td>\n",
       "      <td>0</td>\n",
       "      <td>0</td>\n",
       "      <td>0</td>\n",
       "      <td>0</td>\n",
       "      <td>0</td>\n",
       "      <td>0</td>\n",
       "      <td>0</td>\n",
       "      <td>0</td>\n",
       "      <td>0</td>\n",
       "      <td>0</td>\n",
       "    </tr>\n",
       "    <tr>\n",
       "      <th>1</th>\n",
       "      <td>0</td>\n",
       "      <td>0</td>\n",
       "      <td>0</td>\n",
       "      <td>0</td>\n",
       "      <td>0</td>\n",
       "      <td>0</td>\n",
       "      <td>0</td>\n",
       "      <td>0</td>\n",
       "      <td>0</td>\n",
       "      <td>0</td>\n",
       "      <td>...</td>\n",
       "      <td>0</td>\n",
       "      <td>0</td>\n",
       "      <td>0</td>\n",
       "      <td>0</td>\n",
       "      <td>0</td>\n",
       "      <td>0</td>\n",
       "      <td>0</td>\n",
       "      <td>0</td>\n",
       "      <td>0</td>\n",
       "      <td>0</td>\n",
       "    </tr>\n",
       "    <tr>\n",
       "      <th>2</th>\n",
       "      <td>1</td>\n",
       "      <td>0</td>\n",
       "      <td>0</td>\n",
       "      <td>0</td>\n",
       "      <td>0</td>\n",
       "      <td>0</td>\n",
       "      <td>0</td>\n",
       "      <td>0</td>\n",
       "      <td>0</td>\n",
       "      <td>0</td>\n",
       "      <td>...</td>\n",
       "      <td>0</td>\n",
       "      <td>0</td>\n",
       "      <td>0</td>\n",
       "      <td>0</td>\n",
       "      <td>0</td>\n",
       "      <td>0</td>\n",
       "      <td>0</td>\n",
       "      <td>0</td>\n",
       "      <td>0</td>\n",
       "      <td>0</td>\n",
       "    </tr>\n",
       "    <tr>\n",
       "      <th>6</th>\n",
       "      <td>7</td>\n",
       "      <td>0</td>\n",
       "      <td>0</td>\n",
       "      <td>0</td>\n",
       "      <td>0</td>\n",
       "      <td>0</td>\n",
       "      <td>0</td>\n",
       "      <td>0</td>\n",
       "      <td>0</td>\n",
       "      <td>0</td>\n",
       "      <td>...</td>\n",
       "      <td>0</td>\n",
       "      <td>0</td>\n",
       "      <td>0</td>\n",
       "      <td>0</td>\n",
       "      <td>0</td>\n",
       "      <td>0</td>\n",
       "      <td>0</td>\n",
       "      <td>0</td>\n",
       "      <td>0</td>\n",
       "      <td>0</td>\n",
       "    </tr>\n",
       "    <tr>\n",
       "      <th>9</th>\n",
       "      <td>3</td>\n",
       "      <td>0</td>\n",
       "      <td>0</td>\n",
       "      <td>0</td>\n",
       "      <td>0</td>\n",
       "      <td>0</td>\n",
       "      <td>0</td>\n",
       "      <td>0</td>\n",
       "      <td>0</td>\n",
       "      <td>0</td>\n",
       "      <td>...</td>\n",
       "      <td>0</td>\n",
       "      <td>0</td>\n",
       "      <td>0</td>\n",
       "      <td>0</td>\n",
       "      <td>0</td>\n",
       "      <td>0</td>\n",
       "      <td>0</td>\n",
       "      <td>0</td>\n",
       "      <td>0</td>\n",
       "      <td>0</td>\n",
       "    </tr>\n",
       "  </tbody>\n",
       "</table>\n",
       "<p>5 rows × 785 columns</p>\n",
       "</div>"
      ],
      "text/plain": [
       "   label  pixel0  pixel1  pixel2  pixel3  pixel4  pixel5  pixel6  pixel7  \\\n",
       "0      1       0       0       0       0       0       0       0       0   \n",
       "1      0       0       0       0       0       0       0       0       0   \n",
       "2      1       0       0       0       0       0       0       0       0   \n",
       "6      7       0       0       0       0       0       0       0       0   \n",
       "9      3       0       0       0       0       0       0       0       0   \n",
       "\n",
       "   pixel8  ...  pixel774  pixel775  pixel776  pixel777  pixel778  pixel779  \\\n",
       "0       0  ...         0         0         0         0         0         0   \n",
       "1       0  ...         0         0         0         0         0         0   \n",
       "2       0  ...         0         0         0         0         0         0   \n",
       "6       0  ...         0         0         0         0         0         0   \n",
       "9       0  ...         0         0         0         0         0         0   \n",
       "\n",
       "   pixel780  pixel781  pixel782  pixel783  \n",
       "0         0         0         0         0  \n",
       "1         0         0         0         0  \n",
       "2         0         0         0         0  \n",
       "6         0         0         0         0  \n",
       "9         0         0         0         0  \n",
       "\n",
       "[5 rows x 785 columns]"
      ]
     },
     "execution_count": 13,
     "metadata": {},
     "output_type": "execute_result"
    }
   ],
   "source": [
    "mask = np.random.rand(len(df_train)) < 0.8\n",
    "df_val = df_train[~mask]\n",
    "df_train = df_train[mask]\n",
    "print('Train size: ', df_train.shape)\n",
    "print('Val size: ', df_val.shape)\n",
    "print('Test size: ', df_test.shape)\n",
    "df_train.head()"
   ]
  },
  {
   "cell_type": "code",
   "execution_count": 14,
   "metadata": {
    "execution": {
     "iopub.execute_input": "2021-01-21T07:22:41.867585Z",
     "iopub.status.busy": "2021-01-21T07:22:41.867060Z",
     "iopub.status.idle": "2021-01-21T07:22:41.871215Z",
     "shell.execute_reply": "2021-01-21T07:22:41.870783Z"
    },
    "papermill": {
     "duration": 0.0339,
     "end_time": "2021-01-21T07:22:41.871294",
     "exception": false,
     "start_time": "2021-01-21T07:22:41.837394",
     "status": "completed"
    },
    "tags": []
   },
   "outputs": [],
   "source": [
    "# Create dataset class for PyTorch\n",
    "class DatasetMNIST(torch.utils.data.Dataset):\n",
    "    def __init__(self, data, transform=None):\n",
    "        self.data = data\n",
    "        self.transform = transform\n",
    "        \n",
    "    def __len__(self):\n",
    "        return len(self.data)\n",
    "    \n",
    "    def __getitem__(self, index):\n",
    "        item = self.data.iloc[index]\n",
    "                \n",
    "        image = item[1:].values.astype(np.uint8).reshape((28, 28))\n",
    "        label = item[0]\n",
    "        \n",
    "        if self.transform is not None:\n",
    "            image = self.transform(image)\n",
    "            \n",
    "        return image, label"
   ]
  },
  {
   "cell_type": "code",
   "execution_count": 15,
   "metadata": {
    "execution": {
     "iopub.execute_input": "2021-01-21T07:22:41.924814Z",
     "iopub.status.busy": "2021-01-21T07:22:41.923887Z",
     "iopub.status.idle": "2021-01-21T07:22:42.259115Z",
     "shell.execute_reply": "2021-01-21T07:22:42.258047Z"
    },
    "papermill": {
     "duration": 0.365137,
     "end_time": "2021-01-21T07:22:42.259230",
     "exception": false,
     "start_time": "2021-01-21T07:22:41.894093",
     "status": "completed"
    },
    "tags": []
   },
   "outputs": [],
   "source": [
    "#Composes several transforms together.\n",
    "train_transform = transforms.Compose(\n",
    "                    [\n",
    "                    #Convert a tensor or an ndarray to PIL Image    \n",
    "                    transforms.ToPILImage(),\n",
    "                    #Rotate the image by angle.    \n",
    "                    #transforms.RandomRotation(30),\n",
    "                    #Random affine transformation of the image keeping center invariant. \n",
    "                    #transforms.RandomAffine(degrees=20, translate=(0.1,0.1), scale=(0.9, 1.1)),\n",
    "                    #Randomly change the brightness, contrast and saturation of an image.\n",
    "                    #transforms.ColorJitter(brightness=0.2, contrast=0.2),\n",
    "                    #Convert a PIL Image or numpy.ndarray to tensor. \n",
    "                    transforms.ToTensor(),\n",
    "                    #Normalize a tensor image with mean and standard deviation. \n",
    "                    transforms.Normalize(mean=train_data.mean(), std=train_data.std()),\n",
    "                    #Horizontally flip the given image randomly with a given probability. \n",
    "                    #transforms.RandomHorizontalFlip(p=0.5),\n",
    "                    #Vertically flip the given image randomly with a given probability. \n",
    "                    #transforms.RandomVerticalFlip(p=0.5),\n",
    "                    #Blurs image with randomly chosen Gaussian blur.\n",
    "                    #transforms.GaussianBlur(3, sigma=(0.1, 2.0))\n",
    "                    ])\n",
    "val_transform = transforms.Compose(\n",
    "                    [\n",
    "                    #Convert a tensor or an ndarray to PIL Image    \n",
    "                    transforms.ToPILImage(),\n",
    "                    #Rotate the image by angle.    \n",
    "                    #transforms.RandomRotation(30),\n",
    "                    #Random affine transformation of the image keeping center invariant. \n",
    "                    #transforms.RandomAffine(degrees=20, translate=(0.1,0.1), scale=(0.9, 1.1)),\n",
    "                    #Randomly change the brightness, contrast and saturation of an image.\n",
    "                    #transforms.ColorJitter(brightness=0.2, contrast=0.2),\n",
    "                    #Convert a PIL Image or numpy.ndarray to tensor. \n",
    "                    transforms.ToTensor(),\n",
    "                    #Normalize a tensor image with mean and standard deviation. \n",
    "                    transforms.Normalize(mean=train_data.mean(), std=train_data.std()),\n",
    "                    #Horizontally flip the given image randomly with a given probability. \n",
    "                    #transforms.RandomHorizontalFlip(p=0.5),\n",
    "                    #Vertically flip the given image randomly with a given probability. \n",
    "                    #transforms.RandomVerticalFlip(p=0.5),\n",
    "                    #Blurs image with randomly chosen Gaussian blur.\n",
    "                    #transforms.GaussianBlur(3, sigma=(0.1, 2.0))\n",
    "                    ])\n",
    "test_transform = val_transform"
   ]
  },
  {
   "cell_type": "code",
   "execution_count": 16,
   "metadata": {
    "execution": {
     "iopub.execute_input": "2021-01-21T07:22:42.311218Z",
     "iopub.status.busy": "2021-01-21T07:22:42.310635Z",
     "iopub.status.idle": "2021-01-21T07:22:42.314364Z",
     "shell.execute_reply": "2021-01-21T07:22:42.313960Z"
    },
    "papermill": {
     "duration": 0.031751,
     "end_time": "2021-01-21T07:22:42.314450",
     "exception": false,
     "start_time": "2021-01-21T07:22:42.282699",
     "status": "completed"
    },
    "tags": []
   },
   "outputs": [],
   "source": [
    "train_dataset = DatasetMNIST(df_train, transform = train_transform)\n",
    "validation_dataset = DatasetMNIST(df_val, transform = val_transform)\n",
    "\n",
    "train_loader = torch.utils.data.DataLoader(dataset=train_dataset, batch_size=16)\n",
    "validation_loader = torch.utils.data.DataLoader(dataset=validation_dataset, batch_size=16)\n"
   ]
  },
  {
   "cell_type": "code",
   "execution_count": 17,
   "metadata": {
    "execution": {
     "iopub.execute_input": "2021-01-21T07:22:42.374411Z",
     "iopub.status.busy": "2021-01-21T07:22:42.373869Z",
     "iopub.status.idle": "2021-01-21T07:22:46.332832Z",
     "shell.execute_reply": "2021-01-21T07:22:46.332169Z"
    },
    "papermill": {
     "duration": 3.994976,
     "end_time": "2021-01-21T07:22:46.332953",
     "exception": false,
     "start_time": "2021-01-21T07:22:42.337977",
     "status": "completed"
    },
    "tags": []
   },
   "outputs": [],
   "source": [
    "class CNN(nn.Module):\n",
    "    def __init__(self):\n",
    "        super(CNN,self).__init__()\n",
    "        \n",
    "        self.conv1 = nn.Sequential(\n",
    "            nn.Conv2d(1, 32, 3, padding=1),\n",
    "            nn.ReLU(),\n",
    "            nn.BatchNorm2d(32),\n",
    "            nn.Conv2d(32, 32, 3, stride=2, padding=1),\n",
    "            nn.ReLU(),\n",
    "            nn.BatchNorm2d(32),\n",
    "            nn.MaxPool2d(2, 2),\n",
    "            nn.Dropout(0.25)\n",
    "        )\n",
    "        \n",
    "        self.conv2 = nn.Sequential(\n",
    "            nn.Conv2d(32, 64, 3, padding=1),\n",
    "            nn.ReLU(),\n",
    "            nn.BatchNorm2d(64),\n",
    "            nn.Conv2d(64, 64, 3, stride=2, padding=1),\n",
    "            nn.ReLU(),\n",
    "            nn.BatchNorm2d(64),\n",
    "            nn.MaxPool2d(2, 2),\n",
    "            nn.Dropout(0.25)\n",
    "        )\n",
    "        \n",
    "        self.conv3 = nn.Sequential(\n",
    "            nn.Conv2d(64, 128, 3, padding=1),\n",
    "            nn.ReLU(),\n",
    "            nn.BatchNorm2d(128),\n",
    "            nn.MaxPool2d(2, 2),\n",
    "            nn.Dropout(0.25)\n",
    "        )\n",
    "        \n",
    "        self.fc = nn.Sequential(\n",
    "            nn.Linear(128, 10),\n",
    "        )\n",
    "        \n",
    "    def forward(self, x):\n",
    "        x = self.conv1(x)\n",
    "        x = self.conv2(x)\n",
    "        x = self.conv3(x)\n",
    "        \n",
    "        x = x.view(x.size(0), -1)\n",
    "        return self.fc(x) \n",
    "\n",
    "model = CNN().to(device)\n",
    "\n",
    "\n",
    "\n",
    "\n"
   ]
  },
  {
   "cell_type": "code",
   "execution_count": 18,
   "metadata": {
    "execution": {
     "iopub.execute_input": "2021-01-21T07:22:46.420470Z",
     "iopub.status.busy": "2021-01-21T07:22:46.419789Z",
     "iopub.status.idle": "2021-01-21T07:22:46.423282Z",
     "shell.execute_reply": "2021-01-21T07:22:46.422852Z"
    },
    "papermill": {
     "duration": 0.032024,
     "end_time": "2021-01-21T07:22:46.423363",
     "exception": false,
     "start_time": "2021-01-21T07:22:46.391339",
     "status": "completed"
    },
    "tags": []
   },
   "outputs": [],
   "source": [
    "LEARNING_RATE = 0.001680\n",
    "\n",
    "criterion = nn.CrossEntropyLoss()\n",
    "optimizer = optim.Adam(model.parameters(), lr=LEARNING_RATE)"
   ]
  },
  {
   "cell_type": "code",
   "execution_count": 19,
   "metadata": {
    "execution": {
     "iopub.execute_input": "2021-01-21T07:22:46.481656Z",
     "iopub.status.busy": "2021-01-21T07:22:46.478738Z",
     "iopub.status.idle": "2021-01-21T07:22:46.483915Z",
     "shell.execute_reply": "2021-01-21T07:22:46.484359Z"
    },
    "papermill": {
     "duration": 0.03736,
     "end_time": "2021-01-21T07:22:46.484473",
     "exception": false,
     "start_time": "2021-01-21T07:22:46.447113",
     "status": "completed"
    },
    "tags": []
   },
   "outputs": [],
   "source": [
    "def train_model(model,train_loader, validation_loader, optimizer, n_epochs=100):\n",
    "    \n",
    "    N_test=len(validation_dataset)\n",
    "    accuracy_list=[]\n",
    "    loss_list=[]\n",
    "    for epoch in range(n_epochs):\n",
    "        for x, y in train_loader:\n",
    "            x, y = x.to(device), y.to(device)\n",
    "            model.train()\n",
    "            optimizer.zero_grad()\n",
    "            z = model(x)\n",
    "            loss = criterion(z, y)\n",
    "            loss.backward()\n",
    "            optimizer.step()\n",
    "        loss_list.append(loss.data)\n",
    "        correct=0\n",
    "        #perform a prediction on the validation  data  \n",
    "        for x_test, y_test in validation_loader:\n",
    "            x_test,y_test = x_test.to(device), y_test.to(device)\n",
    "            \n",
    "            model.eval()\n",
    "            z = model(x_test)\n",
    "            _, yhat = torch.max(z.data, 1)\n",
    "            correct += (yhat == y_test).sum().item()\n",
    "        accuracy = correct / N_test\n",
    "        accuracy_list.append(accuracy)\n",
    "    return accuracy_list, loss_list"
   ]
  },
  {
   "cell_type": "code",
   "execution_count": 20,
   "metadata": {
    "execution": {
     "iopub.execute_input": "2021-01-21T07:22:46.539612Z",
     "iopub.status.busy": "2021-01-21T07:22:46.539104Z",
     "iopub.status.idle": "2021-01-21T08:15:48.794965Z",
     "shell.execute_reply": "2021-01-21T08:15:48.794374Z"
    },
    "papermill": {
     "duration": 3182.286691,
     "end_time": "2021-01-21T08:15:48.795079",
     "exception": false,
     "start_time": "2021-01-21T07:22:46.508388",
     "status": "completed"
    },
    "tags": []
   },
   "outputs": [],
   "source": [
    "accuracy_list, loss_list=train_model(model=model,n_epochs=100,train_loader=train_loader,validation_loader=validation_loader,optimizer=optimizer)"
   ]
  },
  {
   "cell_type": "code",
   "execution_count": 21,
   "metadata": {
    "execution": {
     "iopub.execute_input": "2021-01-21T08:15:48.848574Z",
     "iopub.status.busy": "2021-01-21T08:15:48.847811Z",
     "iopub.status.idle": "2021-01-21T08:15:48.979736Z",
     "shell.execute_reply": "2021-01-21T08:15:48.980203Z"
    },
    "papermill": {
     "duration": 0.160741,
     "end_time": "2021-01-21T08:15:48.980305",
     "exception": false,
     "start_time": "2021-01-21T08:15:48.819564",
     "status": "completed"
    },
    "tags": []
   },
   "outputs": [
    {
     "data": {
      "image/png": "[encoded data removed]",
      "text/plain": [
       "<Figure size 432x288 with 1 Axes>"
      ]
     },
     "metadata": {
      "needs_background": "light"
     },
     "output_type": "display_data"
    }
   ],
   "source": [
    "plt.plot(accuracy_list,'r',)\n",
    "#plt.plot(loss_list,'b')\n",
    "plt.xlabel('Epoch')\n",
    "plt.title(\"Accuracy \")\n",
    "plt.legend()\n",
    "plt.show()"
   ]
  },
  {
   "cell_type": "code",
   "execution_count": 22,
   "metadata": {
    "execution": {
     "iopub.execute_input": "2021-01-21T08:15:49.044872Z",
     "iopub.status.busy": "2021-01-21T08:15:49.041724Z",
     "iopub.status.idle": "2021-01-21T08:15:49.179311Z",
     "shell.execute_reply": "2021-01-21T08:15:49.178906Z"
    },
    "papermill": {
     "duration": 0.17402,
     "end_time": "2021-01-21T08:15:49.179408",
     "exception": false,
     "start_time": "2021-01-21T08:15:49.005388",
     "status": "completed"
    },
    "tags": []
   },
   "outputs": [
    {
     "data": {
      "image/png": "[encoded data removed]",
      "text/plain": [
       "<Figure size 432x288 with 1 Axes>"
      ]
     },
     "metadata": {
      "needs_background": "light"
     },
     "output_type": "display_data"
    }
   ],
   "source": [
    "plt.plot(loss_list,'b')\n",
    "plt.xlabel('Epoch')\n",
    "plt.title(\"Loss \")\n",
    "plt.legend()\n",
    "plt.show()"
   ]
  },
  {
   "cell_type": "code",
   "execution_count": 23,
   "metadata": {
    "execution": {
     "iopub.execute_input": "2021-01-21T08:15:49.238980Z",
     "iopub.status.busy": "2021-01-21T08:15:49.238404Z",
     "iopub.status.idle": "2021-01-21T08:15:49.335853Z",
     "shell.execute_reply": "2021-01-21T08:15:49.336250Z"
    },
    "papermill": {
     "duration": 0.131263,
     "end_time": "2021-01-21T08:15:49.336354",
     "exception": false,
     "start_time": "2021-01-21T08:15:49.205091",
     "status": "completed"
    },
    "tags": []
   },
   "outputs": [
    {
     "name": "stdout",
     "output_type": "stream",
     "text": [
      "[0.9742274052478134, 0.9842565597667638, 0.9863556851311953, 0.9861224489795918, 0.9884548104956268, 0.9882215743440234, 0.9874052478134111, 0.9914868804664723, 0.9890379008746356, 0.9903206997084548, 0.9896209912536443, 0.9907871720116618, 0.9913702623906706, 0.9903206997084548, 0.9909037900874635, 0.9910204081632653, 0.9914868804664723, 0.9907871720116618, 0.9911370262390671, 0.9912536443148688, 0.9907871720116618, 0.9913702623906706, 0.9924198250728863, 0.9909037900874635, 0.9910204081632653, 0.9919533527696793, 0.9921865889212828, 0.9917201166180758, 0.9923032069970845, 0.9918367346938776, 0.9903206997084548, 0.993002915451895, 0.991603498542274, 0.9921865889212828, 0.9914868804664723, 0.9921865889212828, 0.9928862973760932, 0.9926530612244898, 0.9914868804664723, 0.991603498542274, 0.9912536443148688, 0.9921865889212828, 0.9932361516034985, 0.9918367346938776, 0.9926530612244898, 0.991603498542274, 0.993002915451895, 0.9917201166180758, 0.9923032069970845, 0.9920699708454811, 0.9920699708454811, 0.9909037900874635, 0.9909037900874635, 0.9911370262390671, 0.9919533527696793, 0.9917201166180758, 0.99067055393586, 0.9920699708454811, 0.9913702623906706, 0.9911370262390671, 0.9920699708454811, 0.9913702623906706, 0.9920699708454811, 0.9911370262390671, 0.9920699708454811, 0.9912536443148688, 0.9924198250728863, 0.9911370262390671, 0.9918367346938776, 0.9920699708454811, 0.9928862973760932, 0.9931195335276968, 0.9917201166180758, 0.993002915451895, 0.9913702623906706, 0.9921865889212828, 0.9919533527696793, 0.9919533527696793, 0.9919533527696793, 0.990204081632653, 0.9923032069970845, 0.9924198250728863, 0.9921865889212828, 0.9924198250728863, 0.9928862973760932, 0.993002915451895, 0.9927696793002916, 0.9917201166180758, 0.9928862973760932, 0.9932361516034985, 0.9933527696793003, 0.9917201166180758, 0.992536443148688, 0.9913702623906706, 0.993002915451895, 0.9933527696793003, 0.9912536443148688, 0.9926530612244898, 0.992536443148688, 0.9928862973760932] [tensor(0.6104, device='cuda:0'), tensor(0.0498, device='cuda:0'), tensor(0.0087, device='cuda:0'), tensor(0.0038, device='cuda:0'), tensor(0.0377, device='cuda:0'), tensor(0.0033, device='cuda:0'), tensor(0.0025, device='cuda:0'), tensor(0.0006, device='cuda:0'), tensor(0.0107, device='cuda:0'), tensor(0.0467, device='cuda:0'), tensor(0.0004, device='cuda:0'), tensor(0.0304, device='cuda:0'), tensor(0.0013, device='cuda:0'), tensor(0.0006, device='cuda:0'), tensor(0.0048, device='cuda:0'), tensor(0.0100, device='cuda:0'), tensor(0.0003, device='cuda:0'), tensor(0.0121, device='cuda:0'), tensor(0.0023, device='cuda:0'), tensor(0.0069, device='cuda:0'), tensor(0.0019, device='cuda:0'), tensor(0.0024, device='cuda:0'), tensor(0.0078, device='cuda:0'), tensor(0.0092, device='cuda:0'), tensor(0.0002, device='cuda:0'), tensor(0.0024, device='cuda:0'), tensor(0.0053, device='cuda:0'), tensor(0.0023, device='cuda:0'), tensor(0.0010, device='cuda:0'), tensor(0.0544, device='cuda:0'), tensor(0.0013, device='cuda:0'), tensor(3.8623e-05, device='cuda:0'), tensor(0.0010, device='cuda:0'), tensor(0.0002, device='cuda:0'), tensor(0.0011, device='cuda:0'), tensor(0.0008, device='cuda:0'), tensor(0.0366, device='cuda:0'), tensor(0.0232, device='cuda:0'), tensor(0.0054, device='cuda:0'), tensor(0.0006, device='cuda:0'), tensor(0.0065, device='cuda:0'), tensor(0.0003, device='cuda:0'), tensor(0.0009, device='cuda:0'), tensor(0.0086, device='cuda:0'), tensor(0.0003, device='cuda:0'), tensor(0.0013, device='cuda:0'), tensor(0.0014, device='cuda:0'), tensor(0.0004, device='cuda:0'), tensor(0.0003, device='cuda:0'), tensor(0.0038, device='cuda:0'), tensor(0.0003, device='cuda:0'), tensor(0.0071, device='cuda:0'), tensor(0.0002, device='cuda:0'), tensor(1.9789e-05, device='cuda:0'), tensor(1.2398e-05, device='cuda:0'), tensor(0.0004, device='cuda:0'), tensor(0.0012, device='cuda:0'), tensor(0.0120, device='cuda:0'), tensor(3.5166e-05, device='cuda:0'), tensor(0.0006, device='cuda:0'), tensor(6.1629e-05, device='cuda:0'), tensor(7.4384e-05, device='cuda:0'), tensor(0.0001, device='cuda:0'), tensor(1.7524e-05, device='cuda:0'), tensor(0.0011, device='cuda:0'), tensor(3.8623e-05, device='cuda:0'), tensor(0.0287, device='cuda:0'), tensor(9.5367e-06, device='cuda:0'), tensor(0.0056, device='cuda:0'), tensor(0.0014, device='cuda:0'), tensor(0.0002, device='cuda:0'), tensor(0.0003, device='cuda:0'), tensor(0.0007, device='cuda:0'), tensor(0.0011, device='cuda:0'), tensor(0.0015, device='cuda:0'), tensor(0.0004, device='cuda:0'), tensor(8.0582e-05, device='cuda:0'), tensor(0.0002, device='cuda:0'), tensor(4.1723e-06, device='cuda:0'), tensor(0.0311, device='cuda:0'), tensor(0.0001, device='cuda:0'), tensor(8.4635e-05, device='cuda:0'), tensor(0.0002, device='cuda:0'), tensor(0.0046, device='cuda:0'), tensor(8.7022e-06, device='cuda:0'), tensor(0.0246, device='cuda:0'), tensor(0.0016, device='cuda:0'), tensor(0.0710, device='cuda:0'), tensor(0.0002, device='cuda:0'), tensor(3.8027e-05, device='cuda:0'), tensor(0.0002, device='cuda:0'), tensor(9.1906e-05, device='cuda:0'), tensor(2.2650e-06, device='cuda:0'), tensor(0.0016, device='cuda:0'), tensor(0.0003, device='cuda:0'), tensor(0.0002, device='cuda:0'), tensor(3.5763e-07, device='cuda:0'), tensor(0.0017, device='cuda:0'), tensor(0.0005, device='cuda:0'), tensor(3.2186e-05, device='cuda:0')]\n"
     ]
    }
   ],
   "source": [
    "print(accuracy_list, loss_list )"
   ]
  },
  {
   "cell_type": "code",
   "execution_count": 24,
   "metadata": {
    "execution": {
     "iopub.execute_input": "2021-01-21T08:15:49.392634Z",
     "iopub.status.busy": "2021-01-21T08:15:49.392132Z",
     "iopub.status.idle": "2021-01-21T08:15:49.396114Z",
     "shell.execute_reply": "2021-01-21T08:15:49.395693Z"
    },
    "papermill": {
     "duration": 0.033646,
     "end_time": "2021-01-21T08:15:49.396192",
     "exception": false,
     "start_time": "2021-01-21T08:15:49.362546",
     "status": "completed"
    },
    "tags": []
   },
   "outputs": [],
   "source": [
    "test_dataset = DatasetMNIST(df_test, transform = val_transform)\n",
    "test_loader = torch.utils.data.DataLoader(dataset=test_dataset, batch_size=16)"
   ]
  },
  {
   "cell_type": "code",
   "execution_count": 25,
   "metadata": {
    "execution": {
     "iopub.execute_input": "2021-01-21T08:15:49.455065Z",
     "iopub.status.busy": "2021-01-21T08:15:49.454147Z",
     "iopub.status.idle": "2021-01-21T08:15:50.054156Z",
     "shell.execute_reply": "2021-01-21T08:15:50.061728Z"
    },
    "papermill": {
     "duration": 0.639976,
     "end_time": "2021-01-21T08:15:50.061931",
     "exception": false,
     "start_time": "2021-01-21T08:15:49.421955",
     "status": "completed"
    },
    "tags": []
   },
   "outputs": [
    {
     "name": "stdout",
     "output_type": "stream",
     "text": [
      "-0.42462977802123\n",
      "2.8164394338725276\n",
      "-0.0007291270898609053\n",
      "0.9992572115903888\n"
     ]
    }
   ],
   "source": [
    "train_mean = train_data.mean()/255.\n",
    "train_std = train_data.std()/255.\n",
    "x_test = df_test.values\n",
    "x_test = x_test.reshape([-1, 28, 28]).astype(np.float)\n",
    "x_test = x_test/255.\n",
    "x_test = (x_test-train_mean)/train_std\n",
    "print(x_test.min())\n",
    "print(x_test.max())\n",
    "print(x_test.mean())\n",
    "print(x_test.std())"
   ]
  },
  {
   "cell_type": "code",
   "execution_count": 26,
   "metadata": {
    "execution": {
     "iopub.execute_input": "2021-01-21T08:15:50.158909Z",
     "iopub.status.busy": "2021-01-21T08:15:50.158134Z",
     "iopub.status.idle": "2021-01-21T08:15:50.260835Z",
     "shell.execute_reply": "2021-01-21T08:15:50.261845Z"
    },
    "papermill": {
     "duration": 0.154828,
     "end_time": "2021-01-21T08:15:50.262023",
     "exception": false,
     "start_time": "2021-01-21T08:15:50.107195",
     "status": "completed"
    },
    "tags": []
   },
   "outputs": [
    {
     "data": {
      "text/plain": [
       "'torch.cuda.FloatTensor'"
      ]
     },
     "execution_count": 26,
     "metadata": {},
     "output_type": "execute_result"
    }
   ],
   "source": [
    "device = torch.device(\"cuda\" if torch.cuda.is_available() else \"cpu\")\n",
    "x_test = np.expand_dims(x_test, axis=1)\n",
    "x_test = torch.from_numpy(x_test).float().to(device)\n",
    "# x_test.shape\n",
    "x_test.type()"
   ]
  },
  {
   "cell_type": "code",
   "execution_count": 27,
   "metadata": {
    "execution": {
     "iopub.execute_input": "2021-01-21T08:15:50.366310Z",
     "iopub.status.busy": "2021-01-21T08:15:50.365423Z",
     "iopub.status.idle": "2021-01-21T08:15:50.535585Z",
     "shell.execute_reply": "2021-01-21T08:15:50.536196Z"
    },
    "papermill": {
     "duration": 0.228531,
     "end_time": "2021-01-21T08:15:50.536361",
     "exception": false,
     "start_time": "2021-01-21T08:15:50.307830",
     "status": "completed"
    },
    "tags": []
   },
   "outputs": [
    {
     "name": "stdout",
     "output_type": "stream",
     "text": [
      "Prediction tensor([2, 0, 9,  ..., 3, 9, 2], device='cuda:0')\n"
     ]
    }
   ],
   "source": [
    "model.eval()   # this is needed to disable dropouts\n",
    "with torch.no_grad():    # turn off gradient computation because we don't need it for prediction\n",
    "    ps = model(x_test)\n",
    "    prediction = torch.argmax(ps, 1)\n",
    "    print('Prediction',prediction)"
   ]
  },
  {
   "cell_type": "code",
   "execution_count": 28,
   "metadata": {
    "execution": {
     "iopub.execute_input": "2021-01-21T08:15:50.637072Z",
     "iopub.status.busy": "2021-01-21T08:15:50.635982Z",
     "iopub.status.idle": "2021-01-21T08:15:50.672368Z",
     "shell.execute_reply": "2021-01-21T08:15:50.671347Z"
    },
    "papermill": {
     "duration": 0.090559,
     "end_time": "2021-01-21T08:15:50.672479",
     "exception": false,
     "start_time": "2021-01-21T08:15:50.581920",
     "status": "completed"
    },
    "tags": []
   },
   "outputs": [
    {
     "data": {
      "text/html": [
       "<div>\n",
       "<style scoped>\n",
       "    .dataframe tbody tr th:only-of-type {\n",
       "        vertical-align: middle;\n",
       "    }\n",
       "\n",
       "    .dataframe tbody tr th {\n",
       "        vertical-align: top;\n",
       "    }\n",
       "\n",
       "    .dataframe thead th {\n",
       "        text-align: right;\n",
       "    }\n",
       "</style>\n",
       "<table border=\"1\" class=\"dataframe\">\n",
       "  <thead>\n",
       "    <tr style=\"text-align: right;\">\n",
       "      <th></th>\n",
       "      <th>ImageId</th>\n",
       "      <th>Label</th>\n",
       "    </tr>\n",
       "  </thead>\n",
       "  <tbody>\n",
       "    <tr>\n",
       "      <th>0</th>\n",
       "      <td>1</td>\n",
       "      <td>2</td>\n",
       "    </tr>\n",
       "    <tr>\n",
       "      <th>1</th>\n",
       "      <td>2</td>\n",
       "      <td>0</td>\n",
       "    </tr>\n",
       "    <tr>\n",
       "      <th>2</th>\n",
       "      <td>3</td>\n",
       "      <td>9</td>\n",
       "    </tr>\n",
       "    <tr>\n",
       "      <th>3</th>\n",
       "      <td>4</td>\n",
       "      <td>0</td>\n",
       "    </tr>\n",
       "    <tr>\n",
       "      <th>4</th>\n",
       "      <td>5</td>\n",
       "      <td>3</td>\n",
       "    </tr>\n",
       "  </tbody>\n",
       "</table>\n",
       "</div>"
      ],
      "text/plain": [
       "   ImageId  Label\n",
       "0        1      2\n",
       "1        2      0\n",
       "2        3      9\n",
       "3        4      0\n",
       "4        5      3"
      ]
     },
     "execution_count": 28,
     "metadata": {},
     "output_type": "execute_result"
    }
   ],
   "source": [
    "df_export = pd.DataFrame(prediction.cpu().tolist(), columns = ['Label'])\n",
    "df_export['ImageId'] = df_export.index +1\n",
    "df_export = df_export[['ImageId', 'Label']]\n",
    "df_export.head()"
   ]
  },
  {
   "cell_type": "code",
   "execution_count": 29,
   "metadata": {
    "execution": {
     "iopub.execute_input": "2021-01-21T08:15:50.731630Z",
     "iopub.status.busy": "2021-01-21T08:15:50.731149Z",
     "iopub.status.idle": "2021-01-21T08:15:51.098111Z",
     "shell.execute_reply": "2021-01-21T08:15:51.097188Z"
    },
    "papermill": {
     "duration": 0.398172,
     "end_time": "2021-01-21T08:15:51.098224",
     "exception": false,
     "start_time": "2021-01-21T08:15:50.700052",
     "status": "completed"
    },
    "tags": []
   },
   "outputs": [],
   "source": [
    "df_export.to_csv('output.csv', index=False)"
   ]
  },
  {
   "cell_type": "code",
   "execution_count": null,
   "metadata": {
    "papermill": {
     "duration": 0.027409,
     "end_time": "2021-01-21T08:15:51.154266",
     "exception": false,
     "start_time": "2021-01-21T08:15:51.126857",
     "status": "completed"
    },
    "tags": []
   },
   "outputs": [],
   "source": []
  }
 ],
 "metadata": {
  "kernelspec": {
   "display_name": "Python 3",
   "language": "python",
   "name": "python3"
  },
  "language_info": {
   "codemirror_mode": {
    "name": "ipython",
    "version": 3
   },
   "file_extension": ".py",
   "mimetype": "text/x-python",
   "name": "python",
   "nbconvert_exporter": "python",
   "pygments_lexer": "ipython3",
   "version": "3.7.6"
  },
  "papermill": {
   "duration": 3205.681928,
   "end_time": "2021-01-21T08:15:52.231744",
   "environment_variables": {},
   "exception": null,
   "input_path": "__notebook__.ipynb",
   "output_path": "__notebook__.ipynb",
   "parameters": {},
   "start_time": "2021-01-21T07:22:26.549816",
   "version": "2.1.0"
  }
 },
 "nbformat": 4,
 "nbformat_minor": 4
}
